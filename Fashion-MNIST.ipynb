{
 "cells": [
  {
   "cell_type": "code",
   "execution_count": 2,
   "metadata": {},
   "outputs": [
    {
     "name": "stderr",
     "output_type": "stream",
     "text": [
      "Using TensorFlow backend.\n"
     ]
    }
   ],
   "source": [
    "import numpy as np\n",
    "from keras.datasets import fashion_mnist\n",
    "from keras.models import Sequential\n",
    "from keras.layers import Dense, Dropout, Flatten\n",
    "from keras.constraints import  maxnorm\n",
    "from keras.optimizers import SGD\n",
    "from keras.layers.convolutional import Conv2D, MaxPooling2D\n",
    "from keras.utils import  np_utils\n",
    "from keras import backend as K\n",
    "K.set_image_dim_ordering('th')"
   ]
  },
  {
   "cell_type": "code",
   "execution_count": 3,
   "metadata": {},
   "outputs": [],
   "source": [
    "(train_X,train_Y), (test_X,test_Y) = fashion_mnist.load_data()"
   ]
  },
  {
   "cell_type": "code",
   "execution_count": 4,
   "metadata": {},
   "outputs": [
    {
     "name": "stdout",
     "output_type": "stream",
     "text": [
      "Training data shape :  (60000, 28, 28) (60000,)\n",
      "Testing data shape :  (10000, 28, 28) (10000,)\n"
     ]
    }
   ],
   "source": [
    "import matplotlib.pyplot as plt\n",
    "%matplotlib inline\n",
    "\n",
    "## print sape\n",
    "print('Training data shape : ', train_X.shape, train_Y.shape)\n",
    "\n",
    "print('Testing data shape : ', test_X.shape, test_Y.shape)"
   ]
  },
  {
   "cell_type": "code",
   "execution_count": 5,
   "metadata": {},
   "outputs": [
    {
     "data": {
      "text/plain": [
       "<matplotlib.text.Text at 0x7f2f1945c240>"
      ]
     },
     "execution_count": 5,
     "metadata": {},
     "output_type": "execute_result"
    },
    {
     "data": {
      "image/png": "[encoded data removed]",
      "text/plain": [
       "<matplotlib.figure.Figure at 0x7f2f1cae2860>"
      ]
     },
     "metadata": {},
     "output_type": "display_data"
    }
   ],
   "source": [
    "plt.figure(figsize=[5,5])\n",
    "\n",
    "# Display the first image in training data\n",
    "plt.subplot(121)\n",
    "plt.imshow(train_X[0,:,:], cmap='gray')\n",
    "plt.title(\"Ground Truth : {}\".format(train_Y[0]))\n",
    "\n",
    "# Display the first image in testing data\n",
    "plt.subplot(122)\n",
    "plt.imshow(test_X[0,:,:], cmap='gray')\n",
    "plt.title(\"Ground Truth : {}\".format(test_Y[0]))"
   ]
  },
  {
   "cell_type": "code",
   "execution_count": 6,
   "metadata": {
    "collapsed": true
   },
   "outputs": [],
   "source": [
    "## Preprocessing\n",
    "train_X = train_X.reshape(-1, 28,28, 1)\n",
    "test_X = test_X.reshape(-1, 28,28, 1)\n",
    "train_X.shape, test_X.shape\n",
    "\n",
    "train_X = train_X.astype('float32')\n",
    "test_X = test_X.astype('float32')\n",
    "train_X = train_X / 255.\n",
    "test_X = test_X / 255."
   ]
  },
  {
   "cell_type": "code",
   "execution_count": 7,
   "metadata": {},
   "outputs": [
    {
     "name": "stdout",
     "output_type": "stream",
     "text": [
      "Original label: 9\n",
      "After conversion to one-hot: [ 0.  0.  0.  0.  0.  0.  0.  0.  0.  1.]\n"
     ]
    }
   ],
   "source": [
    "# Change the labels from categorical to one-hot encoding\n",
    "train_Y_one_hot = np_utils.to_categorical(train_Y)\n",
    "test_Y_one_hot = np_utils.to_categorical(test_Y)\n",
    "\n",
    "# Display the change for category label using one-hot encoding\n",
    "print('Original label:', train_Y[0])\n",
    "print('After conversion to one-hot:', train_Y_one_hot[0])"
   ]
  },
  {
   "cell_type": "code",
   "execution_count": 8,
   "metadata": {
    "collapsed": true
   },
   "outputs": [],
   "source": [
    "from sklearn.model_selection import train_test_split\n",
    "train_X,valid_X,train_label,valid_label = train_test_split(train_X, train_Y_one_hot, test_size=0.25, random_state=13)\n"
   ]
  },
  {
   "cell_type": "code",
   "execution_count": 9,
   "metadata": {
    "collapsed": true
   },
   "outputs": [],
   "source": [
    "from keras.layers.normalization import BatchNormalization\n",
    "from keras.layers.advanced_activations import LeakyReLU"
   ]
  },
  {
   "cell_type": "code",
   "execution_count": 17,
   "metadata": {
    "collapsed": true
   },
   "outputs": [],
   "source": [
    "batch_size = 32\n",
    "epochs = 25\n",
    "num_classes = 10"
   ]
  },
  {
   "cell_type": "code",
   "execution_count": 18,
   "metadata": {
    "collapsed": true
   },
   "outputs": [],
   "source": [
    "fashion_model = Sequential()\n",
    "fashion_model.add(Conv2D(32, kernel_size=(3, 3),activation='linear',input_shape=(28,28,1),padding='same'))\n",
    "fashion_model.add(LeakyReLU(alpha=0.1))\n",
    "fashion_model.add(MaxPooling2D((2, 2),padding='same'))\n",
    "fashion_model.add(Dropout(0.2))\n",
    "fashion_model.add(Conv2D(64, (3, 3), activation='linear',padding='same'))\n",
    "fashion_model.add(LeakyReLU(alpha=0.1))\n",
    "fashion_model.add(MaxPooling2D(pool_size=(2, 2),padding='same'))\n",
    "fashion_model.add(Dropout(0.25))\n",
    "fashion_model.add(Conv2D(128, (3, 3), activation='linear',padding='same'))\n",
    "fashion_model.add(LeakyReLU(alpha=0.1))                  \n",
    "fashion_model.add(MaxPooling2D(pool_size=(2, 2),padding='same'))\n",
    "fashion_model.add(Dropout(0.3))\n",
    "fashion_model.add(Flatten())\n",
    "fashion_model.add(Dense(128, activation='linear'))\n",
    "fashion_model.add(LeakyReLU(alpha=0.1))  \n",
    "fashion_model.add(Dropout(0.2))\n",
    "fashion_model.add(Dense(num_classes, activation='softmax'))"
   ]
  },
  {
   "cell_type": "code",
   "execution_count": 19,
   "metadata": {},
   "outputs": [],
   "source": [
    "import keras\n",
    "fashion_model.compile(loss=keras.losses.categorical_crossentropy, optimizer=keras.optimizers.Adam(),metrics=['accuracy'])"
   ]
  },
  {
   "cell_type": "code",
   "execution_count": 20,
   "metadata": {},
   "outputs": [
    {
     "name": "stdout",
     "output_type": "stream",
     "text": [
      "_________________________________________________________________\n",
      "Layer (type)                 Output Shape              Param #   \n",
      "=================================================================\n",
      "conv2d_4 (Conv2D)            (None, 32, 28, 1)         8096      \n",
      "_________________________________________________________________\n",
      "leaky_re_lu_5 (LeakyReLU)    (None, 32, 28, 1)         0         \n",
      "_________________________________________________________________\n",
      "max_pooling2d_4 (MaxPooling2 (None, 32, 14, 1)         0         \n",
      "_________________________________________________________________\n",
      "dropout_1 (Dropout)          (None, 32, 14, 1)         0         \n",
      "_________________________________________________________________\n",
      "conv2d_5 (Conv2D)            (None, 64, 14, 1)         18496     \n",
      "_________________________________________________________________\n",
      "leaky_re_lu_6 (LeakyReLU)    (None, 64, 14, 1)         0         \n",
      "_________________________________________________________________\n",
      "max_pooling2d_5 (MaxPooling2 (None, 64, 7, 1)          0         \n",
      "_________________________________________________________________\n",
      "dropout_2 (Dropout)          (None, 64, 7, 1)          0         \n",
      "_________________________________________________________________\n",
      "conv2d_6 (Conv2D)            (None, 128, 7, 1)         73856     \n",
      "_________________________________________________________________\n",
      "leaky_re_lu_7 (LeakyReLU)    (None, 128, 7, 1)         0         \n",
      "_________________________________________________________________\n",
      "max_pooling2d_6 (MaxPooling2 (None, 128, 4, 1)         0         \n",
      "_________________________________________________________________\n",
      "dropout_3 (Dropout)          (None, 128, 4, 1)         0         \n",
      "_________________________________________________________________\n",
      "flatten_2 (Flatten)          (None, 512)               0         \n",
      "_________________________________________________________________\n",
      "dense_3 (Dense)              (None, 128)               65664     \n",
      "_________________________________________________________________\n",
      "leaky_re_lu_8 (LeakyReLU)    (None, 128)               0         \n",
      "_________________________________________________________________\n",
      "dropout_4 (Dropout)          (None, 128)               0         \n",
      "_________________________________________________________________\n",
      "dense_4 (Dense)              (None, 10)                1290      \n",
      "=================================================================\n",
      "Total params: 167,402\n",
      "Trainable params: 167,402\n",
      "Non-trainable params: 0\n",
      "_________________________________________________________________\n"
     ]
    }
   ],
   "source": [
    "fashion_model.summary()\n"
   ]
  },
  {
   "cell_type": "code",
   "execution_count": 21,
   "metadata": {},
   "outputs": [
    {
     "name": "stdout",
     "output_type": "stream",
     "text": [
      "Train on 45000 samples, validate on 15000 samples\n",
      "Epoch 1/25\n",
      "45000/45000 [==============================] - 45s 994us/step - loss: 0.6740 - acc: 0.7490 - val_loss: 0.4475 - val_acc: 0.8375\n",
      "Epoch 2/25\n",
      "45000/45000 [==============================] - 52s 1ms/step - loss: 0.4700 - acc: 0.8270 - val_loss: 0.3864 - val_acc: 0.8563\n",
      "Epoch 3/25\n",
      "45000/45000 [==============================] - 52s 1ms/step - loss: 0.4197 - acc: 0.8440 - val_loss: 0.3666 - val_acc: 0.8619\n",
      "Epoch 4/25\n",
      "45000/45000 [==============================] - 61s 1ms/step - loss: 0.3960 - acc: 0.8527 - val_loss: 0.3436 - val_acc: 0.8703\n",
      "Epoch 5/25\n",
      "45000/45000 [==============================] - 63s 1ms/step - loss: 0.3744 - acc: 0.8626 - val_loss: 0.3296 - val_acc: 0.8779\n",
      "Epoch 6/25\n",
      "45000/45000 [==============================] - 60s 1ms/step - loss: 0.3658 - acc: 0.8659 - val_loss: 0.3174 - val_acc: 0.8833\n",
      "Epoch 7/25\n",
      "45000/45000 [==============================] - 65s 1ms/step - loss: 0.3514 - acc: 0.8710 - val_loss: 0.3128 - val_acc: 0.8831\n",
      "Epoch 8/25\n",
      "45000/45000 [==============================] - 62s 1ms/step - loss: 0.3459 - acc: 0.8710 - val_loss: 0.3083 - val_acc: 0.8835\n",
      "Epoch 9/25\n",
      "45000/45000 [==============================] - 69s 2ms/step - loss: 0.3386 - acc: 0.8744 - val_loss: 0.3244 - val_acc: 0.8816\n",
      "Epoch 10/25\n",
      "45000/45000 [==============================] - 58s 1ms/step - loss: 0.3297 - acc: 0.8756 - val_loss: 0.3035 - val_acc: 0.8863\n",
      "Epoch 11/25\n",
      "45000/45000 [==============================] - 55s 1ms/step - loss: 0.3305 - acc: 0.8765 - val_loss: 0.3058 - val_acc: 0.8845\n",
      "Epoch 12/25\n",
      "45000/45000 [==============================] - 57s 1ms/step - loss: 0.3245 - acc: 0.8792 - val_loss: 0.2937 - val_acc: 0.8913\n",
      "Epoch 13/25\n",
      "45000/45000 [==============================] - 62s 1ms/step - loss: 0.3217 - acc: 0.8796 - val_loss: 0.2971 - val_acc: 0.8891\n",
      "Epoch 14/25\n",
      "45000/45000 [==============================] - 55s 1ms/step - loss: 0.3166 - acc: 0.8806 - val_loss: 0.2931 - val_acc: 0.8899\n",
      "Epoch 15/25\n",
      "45000/45000 [==============================] - 55s 1ms/step - loss: 0.3117 - acc: 0.8824 - val_loss: 0.2900 - val_acc: 0.8925\n",
      "Epoch 16/25\n",
      "45000/45000 [==============================] - 53s 1ms/step - loss: 0.3144 - acc: 0.8810 - val_loss: 0.2820 - val_acc: 0.8959\n",
      "Epoch 17/25\n",
      "45000/45000 [==============================] - 64s 1ms/step - loss: 0.3111 - acc: 0.8836 - val_loss: 0.2819 - val_acc: 0.8963\n",
      "Epoch 18/25\n",
      "45000/45000 [==============================] - 55s 1ms/step - loss: 0.3102 - acc: 0.8843 - val_loss: 0.2847 - val_acc: 0.8936\n",
      "Epoch 19/25\n",
      "45000/45000 [==============================] - 53s 1ms/step - loss: 0.3039 - acc: 0.8865 - val_loss: 0.2807 - val_acc: 0.8979\n",
      "Epoch 20/25\n",
      "45000/45000 [==============================] - 47s 1ms/step - loss: 0.2998 - acc: 0.8871 - val_loss: 0.2890 - val_acc: 0.8937\n",
      "Epoch 21/25\n",
      "45000/45000 [==============================] - 46s 1ms/step - loss: 0.2990 - acc: 0.8868 - val_loss: 0.2843 - val_acc: 0.8947\n",
      "Epoch 22/25\n",
      "45000/45000 [==============================] - 48s 1ms/step - loss: 0.3030 - acc: 0.8860 - val_loss: 0.2768 - val_acc: 0.8963\n",
      "Epoch 23/25\n",
      "45000/45000 [==============================] - 47s 1ms/step - loss: 0.2990 - acc: 0.8878 - val_loss: 0.2761 - val_acc: 0.8958\n",
      "Epoch 24/25\n",
      "45000/45000 [==============================] - 47s 1ms/step - loss: 0.2971 - acc: 0.8876 - val_loss: 0.2774 - val_acc: 0.8973\n",
      "Epoch 25/25\n",
      "45000/45000 [==============================] - 45s 1ms/step - loss: 0.2965 - acc: 0.8885 - val_loss: 0.2739 - val_acc: 0.8996\n"
     ]
    }
   ],
   "source": [
    "fashion_train = fashion_model.fit(train_X, train_label, batch_size=batch_size,epochs=epochs,verbose=1,validation_data=(valid_X, valid_label))"
   ]
  },
  {
   "cell_type": "code",
   "execution_count": 24,
   "metadata": {},
   "outputs": [
    {
     "name": "stdout",
     "output_type": "stream",
     "text": [
      "Test loss: 0.287132773054\n",
      "Test accuracy: 0.894\n"
     ]
    }
   ],
   "source": [
    "test_eval = fashion_model.evaluate(test_X, test_Y_one_hot, verbose=0)\n",
    "print('Test loss:', test_eval[0])\n",
    "print('Test accuracy:', test_eval[1])"
   ]
  },
  {
   "cell_type": "code",
   "execution_count": 25,
   "metadata": {},
   "outputs": [
    {
     "data": {
      "image/png": "[encoded data removed]",
      "text/plain": [
       "<matplotlib.figure.Figure at 0x7f2ee7f3f630>"
      ]
     },
     "metadata": {},
     "output_type": "display_data"
    },
    {
     "data": {
      "image/png": "[encoded data removed]",
      "text/plain": [
       "<matplotlib.figure.Figure at 0x7f2ee7e1e400>"
      ]
     },
     "metadata": {},
     "output_type": "display_data"
    }
   ],
   "source": [
    "accuracy = fashion_train.history['acc']\n",
    "val_accuracy = fashion_train.history['val_acc']\n",
    "loss = fashion_train.history['loss']\n",
    "val_loss = fashion_train.history['val_loss']\n",
    "epochs = range(len(accuracy))\n",
    "plt.plot(epochs, accuracy, 'bo', label='Training accuracy')\n",
    "plt.plot(epochs, val_accuracy, 'b', label='Validation accuracy')\n",
    "plt.title('Training and validation accuracy')\n",
    "plt.legend()\n",
    "plt.figure()\n",
    "plt.plot(epochs, loss, 'bo', label='Training loss')\n",
    "plt.plot(epochs, val_loss, 'b', label='Validation loss')\n",
    "plt.title('Training and validation loss')\n",
    "plt.legend()\n",
    "plt.show()"
   ]
  },
  {
   "cell_type": "code",
   "execution_count": 27,
   "metadata": {
    "collapsed": true
   },
   "outputs": [],
   "source": [
    "fashion_model = Sequential()\n",
    "fashion_model.add(Conv2D(32, kernel_size=(3, 3),activation='linear',input_shape=(28,28,1),padding='same'))\n",
    "fashion_model.add(LeakyReLU(alpha=0.1))\n",
    "fashion_model.add(MaxPooling2D((2, 2),padding='same'))\n",
    "fashion_model.add(Dropout(0.25))\n",
    "fashion_model.add(Conv2D(64, (3, 3), activation='linear',padding='same'))\n",
    "fashion_model.add(LeakyReLU(alpha=0.1))\n",
    "fashion_model.add(MaxPooling2D(pool_size=(2, 2),padding='same'))\n",
    "fashion_model.add(Dropout(0.3))\n",
    "fashion_model.add(Conv2D(128, (3, 3), activation='linear',padding='same'))\n",
    "fashion_model.add(LeakyReLU(alpha=0.1))                  \n",
    "fashion_model.add(MaxPooling2D(pool_size=(2, 2),padding='same'))\n",
    "fashion_model.add(Dropout(0.35))\n",
    "fashion_model.add(Flatten())\n",
    "fashion_model.add(Dense(128, activation='linear'))\n",
    "fashion_model.add(LeakyReLU(alpha=0.1))  \n",
    "fashion_model.add(Dropout(0.45))\n",
    "fashion_model.add(Dense(num_classes, activation='softmax'))"
   ]
  },
  {
   "cell_type": "code",
   "execution_count": 28,
   "metadata": {},
   "outputs": [
    {
     "name": "stdout",
     "output_type": "stream",
     "text": [
      "_________________________________________________________________\n",
      "Layer (type)                 Output Shape              Param #   \n",
      "=================================================================\n",
      "conv2d_10 (Conv2D)           (None, 32, 28, 1)         8096      \n",
      "_________________________________________________________________\n",
      "leaky_re_lu_13 (LeakyReLU)   (None, 32, 28, 1)         0         \n",
      "_________________________________________________________________\n",
      "max_pooling2d_10 (MaxPooling (None, 32, 14, 1)         0         \n",
      "_________________________________________________________________\n",
      "dropout_9 (Dropout)          (None, 32, 14, 1)         0         \n",
      "_________________________________________________________________\n",
      "conv2d_11 (Conv2D)           (None, 64, 14, 1)         18496     \n",
      "_________________________________________________________________\n",
      "leaky_re_lu_14 (LeakyReLU)   (None, 64, 14, 1)         0         \n",
      "_________________________________________________________________\n",
      "max_pooling2d_11 (MaxPooling (None, 64, 7, 1)          0         \n",
      "_________________________________________________________________\n",
      "dropout_10 (Dropout)         (None, 64, 7, 1)          0         \n",
      "_________________________________________________________________\n",
      "conv2d_12 (Conv2D)           (None, 128, 7, 1)         73856     \n",
      "_________________________________________________________________\n",
      "leaky_re_lu_15 (LeakyReLU)   (None, 128, 7, 1)         0         \n",
      "_________________________________________________________________\n",
      "max_pooling2d_12 (MaxPooling (None, 128, 4, 1)         0         \n",
      "_________________________________________________________________\n",
      "dropout_11 (Dropout)         (None, 128, 4, 1)         0         \n",
      "_________________________________________________________________\n",
      "flatten_4 (Flatten)          (None, 512)               0         \n",
      "_________________________________________________________________\n",
      "dense_7 (Dense)              (None, 128)               65664     \n",
      "_________________________________________________________________\n",
      "leaky_re_lu_16 (LeakyReLU)   (None, 128)               0         \n",
      "_________________________________________________________________\n",
      "dropout_12 (Dropout)         (None, 128)               0         \n",
      "_________________________________________________________________\n",
      "dense_8 (Dense)              (None, 10)                1290      \n",
      "=================================================================\n",
      "Total params: 167,402\n",
      "Trainable params: 167,402\n",
      "Non-trainable params: 0\n",
      "_________________________________________________________________\n"
     ]
    }
   ],
   "source": [
    "import keras\n",
    "fashion_model.compile(loss=keras.losses.categorical_crossentropy, optimizer=keras.optimizers.Adam(),metrics=['accuracy'])\n",
    "fashion_model.summary()"
   ]
  },
  {
   "cell_type": "code",
   "execution_count": 29,
   "metadata": {},
   "outputs": [
    {
     "name": "stdout",
     "output_type": "stream",
     "text": [
      "Train on 45000 samples, validate on 15000 samples\n",
      "Epoch 1/20\n",
      "45000/45000 [==============================] - 46s 1ms/step - loss: 0.7437 - acc: 0.7230 - val_loss: 0.4761 - val_acc: 0.8191\n",
      "Epoch 2/20\n",
      "45000/45000 [==============================] - 47s 1ms/step - loss: 0.5178 - acc: 0.8086 - val_loss: 0.4231 - val_acc: 0.8427\n",
      "Epoch 3/20\n",
      "45000/45000 [==============================] - 47s 1ms/step - loss: 0.4626 - acc: 0.8322 - val_loss: 0.3777 - val_acc: 0.8621\n",
      "Epoch 4/20\n",
      "45000/45000 [==============================] - 47s 1ms/step - loss: 0.4385 - acc: 0.8420 - val_loss: 0.3552 - val_acc: 0.8707\n",
      "Epoch 5/20\n",
      "45000/45000 [==============================] - 45s 1ms/step - loss: 0.4155 - acc: 0.8490 - val_loss: 0.3530 - val_acc: 0.8717\n",
      "Epoch 6/20\n",
      "45000/45000 [==============================] - 48s 1ms/step - loss: 0.4044 - acc: 0.8517 - val_loss: 0.3420 - val_acc: 0.8747\n",
      "Epoch 7/20\n",
      "45000/45000 [==============================] - 47s 1ms/step - loss: 0.3950 - acc: 0.8555 - val_loss: 0.3261 - val_acc: 0.8780\n",
      "Epoch 8/20\n",
      "45000/45000 [==============================] - 50s 1ms/step - loss: 0.3847 - acc: 0.8578 - val_loss: 0.3272 - val_acc: 0.8749\n",
      "Epoch 9/20\n",
      "45000/45000 [==============================] - 49s 1ms/step - loss: 0.3829 - acc: 0.8600 - val_loss: 0.3279 - val_acc: 0.8796\n",
      "Epoch 10/20\n",
      "45000/45000 [==============================] - 47s 1ms/step - loss: 0.3764 - acc: 0.8609 - val_loss: 0.3115 - val_acc: 0.8825\n",
      "Epoch 11/20\n",
      "45000/45000 [==============================] - 50s 1ms/step - loss: 0.3723 - acc: 0.8620 - val_loss: 0.3137 - val_acc: 0.8837\n",
      "Epoch 12/20\n",
      "45000/45000 [==============================] - 43s 965us/step - loss: 0.3694 - acc: 0.8636 - val_loss: 0.3181 - val_acc: 0.8808\n",
      "Epoch 13/20\n",
      "45000/45000 [==============================] - 42s 938us/step - loss: 0.3654 - acc: 0.8658 - val_loss: 0.3073 - val_acc: 0.8838\n",
      "Epoch 14/20\n",
      "45000/45000 [==============================] - 44s 981us/step - loss: 0.3637 - acc: 0.8672 - val_loss: 0.3131 - val_acc: 0.8842\n",
      "Epoch 15/20\n",
      "45000/45000 [==============================] - 44s 970us/step - loss: 0.3603 - acc: 0.8686 - val_loss: 0.3099 - val_acc: 0.8840\n",
      "Epoch 16/20\n",
      "45000/45000 [==============================] - 51s 1ms/step - loss: 0.3576 - acc: 0.8660 - val_loss: 0.3145 - val_acc: 0.8794\n",
      "Epoch 17/20\n",
      "45000/45000 [==============================] - 46s 1ms/step - loss: 0.3559 - acc: 0.8693 - val_loss: 0.3002 - val_acc: 0.8893\n",
      "Epoch 18/20\n",
      "45000/45000 [==============================] - 44s 985us/step - loss: 0.3552 - acc: 0.8690 - val_loss: 0.3073 - val_acc: 0.8846\n",
      "Epoch 19/20\n",
      "45000/45000 [==============================] - 44s 982us/step - loss: 0.3540 - acc: 0.8695 - val_loss: 0.3026 - val_acc: 0.8885\n",
      "Epoch 20/20\n",
      "45000/45000 [==============================] - 43s 963us/step - loss: 0.3512 - acc: 0.8678 - val_loss: 0.3012 - val_acc: 0.8876\n"
     ]
    }
   ],
   "source": [
    "fashion_train = fashion_model.fit(train_X, train_label, batch_size=batch_size,epochs=20,verbose=1,validation_data=(valid_X, valid_label))"
   ]
  },
  {
   "cell_type": "code",
   "execution_count": null,
   "metadata": {
    "collapsed": true
   },
   "outputs": [],
   "source": []
  }
 ],
 "metadata": {
  "kernelspec": {
   "display_name": "Python 3",
   "language": "python",
   "name": "python3"
  },
  "language_info": {
   "codemirror_mode": {
    "name": "ipython",
    "version": 3
   },
   "file_extension": ".py",
   "mimetype": "text/x-python",
   "name": "python",
   "nbconvert_exporter": "python",
   "pygments_lexer": "ipython3",
   "version": "3.6.1"
  }
 },
 "nbformat": 4,
 "nbformat_minor": 2
}
