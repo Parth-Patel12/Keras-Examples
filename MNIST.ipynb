{
 "cells": [
  {
   "cell_type": "code",
   "execution_count": 84,
   "metadata": {
    "collapsed": true
   },
   "outputs": [],
   "source": [
    "from keras.datasets import mnist"
   ]
  },
  {
   "cell_type": "markdown",
   "metadata": {},
   "source": [
    "### Load dataset into train and test"
   ]
  },
  {
   "cell_type": "code",
   "execution_count": 85,
   "metadata": {},
   "outputs": [],
   "source": [
    "(train_image, train_label) , (test_image , test_label) = mnist.load_data()"
   ]
  },
  {
   "cell_type": "code",
   "execution_count": 86,
   "metadata": {},
   "outputs": [
    {
     "name": "stdout",
     "output_type": "stream",
     "text": [
      "train images dimension = 3\n",
      "train images shape =  (60000, 28, 28)\n"
     ]
    }
   ],
   "source": [
    "print(\"train images dimension =\" , train_image.ndim)\n",
    "print(\"train images shape = \",train_image.shape)"
   ]
  },
  {
   "cell_type": "markdown",
   "metadata": {},
   "source": [
    "### ``` let's display 4th digit ```"
   ]
  },
  {
   "cell_type": "code",
   "execution_count": 87,
   "metadata": {
    "collapsed": true
   },
   "outputs": [],
   "source": [
    "digit = train_image[4]"
   ]
  },
  {
   "cell_type": "code",
   "execution_count": 88,
   "metadata": {
    "collapsed": true
   },
   "outputs": [],
   "source": [
    "import matplotlib.pyplot as plt\n",
    "%matplotlib inline"
   ]
  },
  {
   "cell_type": "code",
   "execution_count": 103,
   "metadata": {},
   "outputs": [
    {
     "data": {
      "text/plain": [
       "<matplotlib.image.AxesImage at 0x7fc44a059ac8>"
      ]
     },
     "execution_count": 103,
     "metadata": {},
     "output_type": "execute_result"
    },
    {
     "data": {
      "image/png": "[encoded data removed]",
      "text/plain": [
       "<matplotlib.figure.Figure at 0x7fc44a083080>"
      ]
     },
     "metadata": {},
     "output_type": "display_data"
    }
   ],
   "source": [
    "plt.imshow(digit,cmap=plt.cm.binary)"
   ]
  },
  {
   "cell_type": "markdown",
   "metadata": {},
   "source": [
    "## reshape train as well as test images"
   ]
  },
  {
   "cell_type": "code",
   "execution_count": 90,
   "metadata": {
    "collapsed": true
   },
   "outputs": [],
   "source": [
    "train_image = train_image.reshape(60000,28*28)   ### 28x28 pizel images\n",
    "train_image = train_image.astype('float32')/255\n",
    "\n",
    "test_image = test_image.reshape(10000,28*28)\n",
    "test_image = test_image.astype('float32') / 255"
   ]
  },
  {
   "cell_type": "markdown",
   "metadata": {},
   "source": [
    "### encode labels into categories"
   ]
  },
  {
   "cell_type": "code",
   "execution_count": 91,
   "metadata": {
    "collapsed": true
   },
   "outputs": [],
   "source": [
    "from keras.utils import to_categorical"
   ]
  },
  {
   "cell_type": "code",
   "execution_count": 92,
   "metadata": {
    "collapsed": true
   },
   "outputs": [],
   "source": [
    "train_label = to_categorical(train_label,num_classes=10)\n",
    "test_label = to_categorical(test_label,num_classes=10)"
   ]
  },
  {
   "cell_type": "markdown",
   "metadata": {},
   "source": [
    "## Explore dataset"
   ]
  },
  {
   "cell_type": "code",
   "execution_count": 93,
   "metadata": {},
   "outputs": [
    {
     "name": "stdout",
     "output_type": "stream",
     "text": [
      "After reshape, new dimensions of train_image = 2\n",
      "New shape = (60000, 784)\n",
      "Images data type =  float32\n"
     ]
    }
   ],
   "source": [
    "print(\"After reshape, new dimensions of train_image = \"+ str(train_image.ndim))\n",
    "print(\"New shape = \"+str(train_image.shape))\n",
    "print(\"Images data type = \",train_image.dtype)"
   ]
  },
  {
   "cell_type": "code",
   "execution_count": 94,
   "metadata": {
    "collapsed": true
   },
   "outputs": [],
   "source": [
    "import numpy as np \n",
    "import pandas as pd \n",
    "import matplotlib.pyplot as plt\n",
    "from sklearn.model_selection import train_test_split\n",
    "\n",
    "from keras.models import Sequential\n",
    "from keras.callbacks import EarlyStopping\n",
    "from keras.optimizers import Adam ,RMSprop\n",
    "from keras.layers import Conv2D, MaxPooling2D\n",
    "from keras.utils.np_utils import to_categorical\n",
    "from keras.preprocessing.image import ImageDataGenerator\n",
    "from keras.layers import Dense, Dropout, Lambda, Flatten, Activation, Dropout"
   ]
  },
  {
   "cell_type": "code",
   "execution_count": 95,
   "metadata": {
    "collapsed": true
   },
   "outputs": [],
   "source": [
    "network = Sequential()"
   ]
  },
  {
   "cell_type": "code",
   "execution_count": 96,
   "metadata": {},
   "outputs": [],
   "source": [
    "network.add(Dense(512,activation='relu',input_shape = (28*28,)))\n",
    "network.add(Dense(10,activation='softmax'))"
   ]
  },
  {
   "cell_type": "code",
   "execution_count": 97,
   "metadata": {},
   "outputs": [],
   "source": [
    "network.compile(optimizer='rmsprop',loss='categorical_crossentropy',metrics=['accuracy'])"
   ]
  },
  {
   "cell_type": "code",
   "execution_count": 98,
   "metadata": {},
   "outputs": [
    {
     "name": "stdout",
     "output_type": "stream",
     "text": [
      "Epoch 1/12\n",
      "60000/60000 [==============================] - 5s 82us/step - loss: 0.2495 - acc: 0.9281\n",
      "Epoch 2/12\n",
      "60000/60000 [==============================] - 5s 81us/step - loss: 0.1018 - acc: 0.9697\n",
      "Epoch 3/12\n",
      "60000/60000 [==============================] - 5s 80us/step - loss: 0.0674 - acc: 0.9803\n",
      "Epoch 4/12\n",
      "60000/60000 [==============================] - 5s 82us/step - loss: 0.0491 - acc: 0.9849\n",
      "Epoch 5/12\n",
      "60000/60000 [==============================] - 5s 82us/step - loss: 0.0372 - acc: 0.9887\n",
      "Epoch 6/12\n",
      "60000/60000 [==============================] - 5s 81us/step - loss: 0.0285 - acc: 0.9910\n",
      "Epoch 7/12\n",
      "60000/60000 [==============================] - 5s 83us/step - loss: 0.0211 - acc: 0.9938\n",
      "Epoch 8/12\n",
      "60000/60000 [==============================] - 5s 84us/step - loss: 0.0162 - acc: 0.9953\n",
      "Epoch 9/12\n",
      "60000/60000 [==============================] - 6s 95us/step - loss: 0.0134 - acc: 0.9961\n",
      "Epoch 10/12\n",
      "60000/60000 [==============================] - 7s 114us/step - loss: 0.0105 - acc: 0.9968\n",
      "Epoch 11/12\n",
      "60000/60000 [==============================] - 5s 91us/step - loss: 0.0078 - acc: 0.9980\n",
      "Epoch 12/12\n",
      "60000/60000 [==============================] - 5s 86us/step - loss: 0.0062 - acc: 0.9984\n"
     ]
    },
    {
     "data": {
      "text/plain": [
       "<keras.callbacks.History at 0x7fc44d478940>"
      ]
     },
     "execution_count": 98,
     "metadata": {},
     "output_type": "execute_result"
    }
   ],
   "source": [
    "network.fit(train_image,train_label,epochs=12,batch_size=128)"
   ]
  },
  {
   "cell_type": "code",
   "execution_count": 99,
   "metadata": {
    "collapsed": true
   },
   "outputs": [],
   "source": [
    "prediction = network.predict_classes(test_image)"
   ]
  },
  {
   "cell_type": "code",
   "execution_count": 100,
   "metadata": {},
   "outputs": [
    {
     "name": "stdout",
     "output_type": "stream",
     "text": [
      "10000/10000 [==============================] - 0s 34us/step\n"
     ]
    }
   ],
   "source": [
    "score,acc = network.evaluate(test_image,test_label,batch_size=128)"
   ]
  },
  {
   "cell_type": "code",
   "execution_count": 101,
   "metadata": {},
   "outputs": [
    {
     "name": "stdout",
     "output_type": "stream",
     "text": [
      "accuracy =  0.9812\n"
     ]
    }
   ],
   "source": [
    "print(\"accuracy = \",acc)"
   ]
  }
 ],
 "metadata": {
  "kernelspec": {
   "display_name": "Python 3",
   "language": "python",
   "name": "python3"
  },
  "language_info": {
   "codemirror_mode": {
    "name": "ipython",
    "version": 3
   },
   "file_extension": ".py",
   "mimetype": "text/x-python",
   "name": "python",
   "nbconvert_exporter": "python",
   "pygments_lexer": "ipython3",
   "version": "3.6.1"
  }
 },
 "nbformat": 4,
 "nbformat_minor": 2
}
